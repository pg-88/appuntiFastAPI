{
 "cells": [
  {
   "attachments": {},
   "cell_type": "markdown",
   "metadata": {},
   "source": [
    "# API \n",
    " \n",
    "## Pydantic \n",
    "consente di imporre i tipi di dato a python ed è indispensabile con fastAPI per assicurare che i dati passati alle request siano appropriati\n",
    "\n",
    "- **BaseModel**: è una classe che va ereditata e permette di creare tipi dato complessi da passare a un modello tramite API\n",
    "- **Decoratori**: sono pesantemente sfruttati da fastAPI.\n",
    "    >Attenzione ogni chiamata deve essere univoca nella combinazione di tipo chiamata ed endpoit\n",
    "\n",
    "- **swagger**: interfaccia utente che permette di debuggare la API generato con openAPI\n",
    "\n",
    "\n",
    "## Chiamate API \n",
    "\n",
    "Prima di tutto è necessario che il server sia attivo e raggiungibile.\n",
    "\n",
    "Devo poi conoscere l'URL di base e i parametri da passare all'API.\n",
    "\n",
    "Per le chiamate get devo comporre la stringa di endpoint, mentre per le post devo passare 3 parametri: l'url, l'header, il body.\n",
    "\n",
    "Nel body devo passare un json che contiene le chiavi (che coincidono con i nomi dei parametri definiti nel tipo dato pydantic)\n",
    "\n",
    "Se nell'api ho il modello di AI basterà passare tutte le variabili richieste dalla feature e posso ottenere in risposta la prediction.\n"
   ]
  },
  {
   "cell_type": "code",
   "execution_count": 4,
   "metadata": {},
   "outputs": [],
   "source": [
    "from fastapi import FastAPI\n",
    "import uvicorn"
   ]
  },
  {
   "attachments": {},
   "cell_type": "markdown",
   "metadata": {},
   "source": [
    "### Per casa \n",
    "Interfaccia streamlit che fa la chimata al servizio API"
   ]
  },
  {
   "cell_type": "code",
   "execution_count": 2,
   "metadata": {},
   "outputs": [],
   "source": [
    "import requests\n",
    "import json\n",
    "\n",
    "\n",
    "url = 'http://localhost:8000/sum'\n",
    "\n",
    "header = ''\n",
    "\n",
    "body = {\n",
    "  \"num1\": 42,\n",
    "  \"num2\": 69\n",
    "}\n",
    "\n",
    "\n"
   ]
  }
 ],
 "metadata": {
  "kernelspec": {
   "display_name": "Python 3",
   "language": "python",
   "name": "python3"
  },
  "language_info": {
   "codemirror_mode": {
    "name": "ipython",
    "version": 3
   },
   "file_extension": ".py",
   "mimetype": "text/x-python",
   "name": "python",
   "nbconvert_exporter": "python",
   "pygments_lexer": "ipython3",
   "version": "3.10.10"
  },
  "orig_nbformat": 4
 },
 "nbformat": 4,
 "nbformat_minor": 2
}
